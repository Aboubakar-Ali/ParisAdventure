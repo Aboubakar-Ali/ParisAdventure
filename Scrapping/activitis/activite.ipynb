{
 "cells": [
  {
   "cell_type": "code",
   "execution_count": 72,
   "id": "1f8d5600-3857-4433-bdc0-cd1d4ca78cca",
   "metadata": {},
   "outputs": [],
   "source": [
    "from selenium import webdriver\n",
    "from selenium.webdriver.common.by import By\n",
    "from bs4 import BeautifulSoup"
   ]
  },
  {
   "cell_type": "code",
   "execution_count": 92,
   "id": "a9acffdf-04a9-452b-b6cf-1131ca8a1b56",
   "metadata": {},
   "outputs": [],
   "source": [
    "def scrap():\n",
    "    # Instancier un navigateur Selenium\n",
    "    # Ouvrir la page web\n",
    "    driver = webdriver.Firefox()\n",
    "    url = \"https://www.familinparis.fr/sortie-en-ile-de-france/\"\n",
    "    driver.get(url)\n",
    "\n",
    "    # Vous pouvez ensuite utiliser les méthodes de Selenium pour extraire les données de la page\n",
    "    page_source = driver.page_source\n",
    "    soup = BeautifulSoup(page_source, 'html.parser')\n",
    "    \n",
    "    # Recherchez les éléments avec la classe \"grid\"\n",
    "    links = soup.find_all(class_='grid')\n",
    "    \n",
    "    # Créez une liste pour stocker les liens\n",
    "    liste_liens = []\n",
    "\n",
    "    # Parcourez tous les éléments \"grid\" et extrayez les liens\n",
    "    for element in links:\n",
    "        link = element.find('a')['href']\n",
    "        liste_liens.append(link)\n",
    "\n",
    "    # N'oubliez pas de fermer le navigateur à la fin\n",
    "    driver.quit()\n",
    "\n",
    "    return liste_liens"
   ]
  },
  {
   "cell_type": "code",
   "execution_count": 93,
   "id": "06a160d3-3cef-4b26-8795-3c4f2fc3975c",
   "metadata": {},
   "outputs": [],
   "source": [
    "a = scrap()"
   ]
  },
  {
   "cell_type": "code",
   "execution_count": 101,
   "id": "37fd44a9-00bb-4135-9c16-732538d1df66",
   "metadata": {},
   "outputs": [],
   "source": [
    "def activite(links):\n",
    "    titles = []  # Créez une liste pour stocker les titres\n",
    "\n",
    "    for link in links:\n",
    "        driver = webdriver.Firefox()\n",
    "        driver.get(link)\n",
    "\n",
    "        # Attendez quelques secondes pour que la page se charge complètement (vous pouvez ajuster le temps d'attente au besoin)\n",
    "        time.sleep(5)\n",
    "\n",
    "        # Utilisez BeautifulSoup pour analyser la page\n",
    "        page_source = driver.page_source\n",
    "        soup = BeautifulSoup(page_source, 'html.parser')\n",
    "\n",
    "        # Trouvez le texte de la balise h1 avec la classe \"post-title\"\n",
    "        h1_element = soup.find('h1', class_='post-title')\n",
    "\n",
    "        if h1_element:\n",
    "            title = h1_element.get_text()\n",
    "            titles.append(title)  # Ajoutez le titre à la liste\n",
    "\n",
    "        # Fermez le navigateur\n",
    "        driver.quit()\n",
    "\n",
    "    return titles  # Renvoie la liste des titres\n",
    "\n",
    "    "
   ]
  },
  {
   "cell_type": "code",
   "execution_count": 104,
   "id": "ac86390b-3058-4890-940c-c0f5ec2304de",
   "metadata": {},
   "outputs": [],
   "source": [
    "b = activite(a)"
   ]
  },
  {
   "cell_type": "code",
   "execution_count": 105,
   "id": "4d59093c-7973-4946-a44a-30d1c9783666",
   "metadata": {},
   "outputs": [
    {
     "data": {
      "text/plain": [
       "['\\nHalloween Astérix 2023 : “Peur sur le parc Astérix”\\n',\n",
       " '\\nNoël Gaulois au parc Astérix\\n',\n",
       " '\\nL’attraction TOUTATIS au Parc Astérix\\n',\n",
       " '\\nLe parc Astérix\\n',\n",
       " '\\nLe château de Chantilly\\n',\n",
       " '\\nLe château de Pierrefonds\\n',\n",
       " '\\nLe parc du Domaine de Chantilly\\n',\n",
       " '\\nLa Mer de Sable\\n',\n",
       " '\\nLe Festival Halloween Disney 2023\\n',\n",
       " '\\n“La Légende des chevaliers”\\n',\n",
       " '\\nDisneyland Paris\\n',\n",
       " '\\nL’aquarium SEA LIFE\\n',\n",
       " '\\nParrot World, le monde des perroquets\\n',\n",
       " '\\nLe château de Vaux-le-Vicomte\\n',\n",
       " '\\nLe château de Champs-sur-Marne\\n',\n",
       " '\\nLe château de Fontainebleau\\n',\n",
       " '\\nAccroCamp Paris-Jablines\\n',\n",
       " '\\nLes fermes pédagogiques autour de Paris\\n',\n",
       " '\\nLes fermes-cueillettes autour de Paris\\n',\n",
       " '\\nProvins et ses environs en famille\\n',\n",
       " '\\nStage Accrobranche à la Toussaint\\n',\n",
       " '\\nSoirée Halloween dans un accrobranche 🎃\\n',\n",
       " '\\nLe château de Versailles et ses jardins\\n',\n",
       " '\\nLe château de Rambouillet\\n',\n",
       " '\\nSi Versailles m’était conté\\n',\n",
       " '\\n“Si Versailles m’était conté” (visite privée)\\n',\n",
       " '\\nLes Grandes Eaux Nocturnes\\n',\n",
       " '\\nLes Grandes Eaux Musicales\\n',\n",
       " '\\n“2 heures pour sauver le Roi” (jeu de piste)\\n',\n",
       " '\\n“2 heures en 1789” (jeu de piste)\\n',\n",
       " '\\n“Revolution tour Versailles” (visite guidée)\\n',\n",
       " '\\nZoo Safari de Thoiry\\n',\n",
       " '\\nFrance Miniature\\n',\n",
       " '\\nBalade Enigme : jeu de piste à Versailles (quartier du château)\\n',\n",
       " '\\nUnivers KOH LANTA\\xa0à France Miniature\\n',\n",
       " '\\nMalowe Nature, la ferme pédagogique\\n',\n",
       " '\\nLe Domaine de Trianon\\n',\n",
       " '\\nLa Voie de l’écuyère\\n',\n",
       " '\\n🎃Halloween au Zoo Safari de Thoiry 🎃\\n',\n",
       " '\\nLe parcours du roi\\n',\n",
       " '\\nStage Accrobranche à la Toussaint\\n',\n",
       " '\\nSoirée Halloween dans un accrobranche 🎃\\n',\n",
       " '\\nLes spectacles de Guignol et de marionnettes\\n',\n",
       " '\\nLe château de Malmaison et de Bois-Préau\\n',\n",
       " '\\nLa patinoire olympique de Boulogne-Billancourt\\n',\n",
       " '\\nAccroCamp Rueil-Malmaison (92)\\n',\n",
       " '\\nLa visite ludique “La tête dans les nuages” (Rallye Art Contemporain)\\n',\n",
       " '\\nGuignol en plein air\\n',\n",
       " '\\nL’Escape Game “Le portail magique” (92)\\n',\n",
       " '\\nEscape Game : “Opération GreenFinger” (92)\\n',\n",
       " '\\nLe parc Georges-Valbon (ou parc de la Courneuve)\\n',\n",
       " '\\nLa Basilique Saint-Denis\\n',\n",
       " '\\nLes joyaux de la basilique Saint-Denis (visite famille)\\n',\n",
       " '\\nLes jardins de l’impasse Gobétue à Montreuil\\n',\n",
       " '\\nLa ferme urbaine Rainbow\\n',\n",
       " '\\nStage Accrobranche à la Toussaint\\n',\n",
       " '\\nSoirée Halloween dans un accrobranche 🎃\\n',\n",
       " '\\nLe Château de Vincennes\\n',\n",
       " '\\nLes fermes pédagogiques autour de Paris\\n',\n",
       " '\\nLes fermes-cueillettes autour de Paris\\n',\n",
       " '\\nVél’OFIL, le Véxin en vélo électrique\\n',\n",
       " '\\nLes accrobranches autour de Paris\\n',\n",
       " '\\nL’accrobranche Sherwood Parc\\n',\n",
       " '\\nLe musée impressionniste d’Auvers-sur-Oise\\n']"
      ]
     },
     "execution_count": 105,
     "metadata": {},
     "output_type": "execute_result"
    }
   ],
   "source": [
    "b"
   ]
  },
  {
   "cell_type": "code",
   "execution_count": null,
   "id": "f85ab9aa-1874-4402-83ce-9d37ce72af4e",
   "metadata": {},
   "outputs": [],
   "source": []
  }
 ],
 "metadata": {
  "kernelspec": {
   "display_name": "Python 3 (ipykernel)",
   "language": "python",
   "name": "python3"
  },
  "language_info": {
   "codemirror_mode": {
    "name": "ipython",
    "version": 3
   },
   "file_extension": ".py",
   "mimetype": "text/x-python",
   "name": "python",
   "nbconvert_exporter": "python",
   "pygments_lexer": "ipython3",
   "version": "3.10.9"
  }
 },
 "nbformat": 4,
 "nbformat_minor": 5
}
