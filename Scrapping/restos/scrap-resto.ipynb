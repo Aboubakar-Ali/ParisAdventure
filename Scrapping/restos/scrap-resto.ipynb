{
 "cells": [
  {
   "cell_type": "code",
   "execution_count": null,
   "metadata": {},
   "outputs": [],
   "source": [
    "from selenium import webdriver\n",
    "from selenium.webdriver.common.by import By\n",
    "from bs4 import BeautifulSoup"
   ]
  },
  {
   "cell_type": "code",
   "execution_count": null,
   "metadata": {},
   "outputs": [],
   "source": [
    "def Resto(links):\n",
    "    names = []  # Créez une liste pour stocker les titres\n",
    "\n",
    "    for link in links:\n",
    "        driver = webdriver.Firefox()\n",
    "        driver.get(link)\n",
    "\n",
    "        # Attendez quelques secondes pour que la page se charge complètement (vous pouvez ajuster le temps d'attente au besoin)\n",
    "        time.sleep(5)\n",
    "\n",
    "        # Utilisez BeautifulSoup pour analyser la page\n",
    "        page_source = driver.page_source\n",
    "        soup = BeautifulSoup(page_source, 'html.parser')\n",
    "\n",
    "        # Trouvez le texte de la balise h1 avec la classe \"post-title\"\n",
    "        h1_element = soup.find('h1', class_='test_center')\n",
    "\n",
    "        if h1_element:\n",
    "            title = h1_element.get_text()\n",
    "            names.append(title)  # Ajoutez le titre à la liste\n",
    "\n",
    "        # Fermez le navigateur\n",
    "        driver.quit()\n",
    "\n",
    "    return names  # Renvoie la liste des titres"
   ]
  }
 ],
 "metadata": {
  "language_info": {
   "name": "python"
  }
 },
 "nbformat": 4,
 "nbformat_minor": 2
}
