{
 "cells": [
  {
   "cell_type": "code",
   "execution_count": 54,
   "id": "1f8d5600-3857-4433-bdc0-cd1d4ca78cca",
   "metadata": {},
   "outputs": [],
   "source": [
    "from selenium import webdriver\n",
    "from selenium.webdriver.common.by import By\n",
    "from bs4 import BeautifulSoup\n",
    "import csv"
   ]
  },
  {
   "cell_type": "code",
   "execution_count": 55,
   "id": "a9acffdf-04a9-452b-b6cf-1131ca8a1b56",
   "metadata": {},
   "outputs": [],
   "source": [
    "def scrap():\n",
    "    # Instancier un navigateur Selenium\n",
    "    # Ouvrir la page web\n",
    "    driver = webdriver.Firefox()\n",
    "    url = \"https://www.familinparis.fr/sortie-en-ile-de-france/\"\n",
    "    driver.get(url)\n",
    "\n",
    "    # Vous pouvez ensuite utiliser les méthodes de Selenium pour extraire les données de la page\n",
    "    page_source = driver.page_source\n",
    "    soup = BeautifulSoup(page_source, 'html.parser')\n",
    "    \n",
    "    # Recherchez les éléments avec la classe \"grid\"\n",
    "    links = soup.find_all(class_='grid')\n",
    "    \n",
    "    # Créez une liste pour stocker les liens\n",
    "    liste_liens = []\n",
    "\n",
    "    # Parcourez tous les éléments \"grid\" et extrayez les liens\n",
    "    for element in links:\n",
    "        link = element.find('a')['href']\n",
    "        liste_liens.append(link)\n",
    "\n",
    "    # N'oubliez pas de fermer le navigateur à la fin\n",
    "    driver.quit()\n",
    "\n",
    "    return liste_liens"
   ]
  },
  {
   "cell_type": "code",
   "execution_count": 56,
   "id": "06a160d3-3cef-4b26-8795-3c4f2fc3975c",
   "metadata": {},
   "outputs": [],
   "source": [
    "a = scrap()"
   ]
  },
  {
   "cell_type": "code",
   "execution_count": 57,
   "id": "37fd44a9-00bb-4135-9c16-732538d1df66",
   "metadata": {},
   "outputs": [],
   "source": [
    "def activite(links):\n",
    "    data = []  # Créez une liste pour stocker les titres\n",
    "    i = 0\n",
    "    for link in links:\n",
    "        driver = webdriver.Firefox()\n",
    "        driver.get(link)\n",
    "\n",
    "        # Attendez quelques secondes pour que la page se charge complètement (vous pouvez ajuster le temps d'attente au besoin)\n",
    "        i = i + 1\n",
    "        if i >= 6:\n",
    "            return data\n",
    "        \n",
    "        # Utilisez BeautifulSoup pour analyser la page\n",
    "        page_source = driver.page_source\n",
    "        soup = BeautifulSoup(page_source, 'html.parser')\n",
    "\n",
    "        # Trouvez le texte de la balise h1 avec la classe \"post-title\"\n",
    "        h1_element = soup.find('h1', class_='post-title')\n",
    "        \n",
    "        baseline_element = soup.find('div', class_='baseline')\n",
    "        \n",
    "        div_element = soup.find('div', class_='wp-block-columns is-layout-flex wp-container-4 wp-block-columns-is-layout-flex')\n",
    "        \n",
    "        if div_element:\n",
    "            ul_element = div_element.find('ul')  # Trouvez la balise ul\n",
    "            if ul_element:\n",
    "                li_elements = ul_element.find_all('li')  # Trouvez toutes les balises li dans ul\n",
    "                list_items = [li.get_text() for li in li_elements]  # Récupérez le texte des éléments li\n",
    "\n",
    "        if h1_element and baseline_element:\n",
    "            title = h1_element.get_text()\n",
    "            baseline = baseline_element.get_text()\n",
    "            data.append({'title': title, 'baseline': baseline, 'list_items': list_items})  # Ajoutez le titre et la baseline à la liste\n",
    "\n",
    "        # Fermez le navigateur\n",
    "        driver.quit()\n",
    "        \n",
    "\n",
    "    return data  # Renvoie la liste des titres"
   ]
  },
  {
   "cell_type": "code",
   "execution_count": 58,
   "id": "ac86390b-3058-4890-940c-c0f5ec2304de",
   "metadata": {},
   "outputs": [],
   "source": [
    "b = activite(a)"
   ]
  },
  {
   "cell_type": "code",
   "execution_count": 59,
   "id": "4d59093c-7973-4946-a44a-30d1c9783666",
   "metadata": {},
   "outputs": [
    {
     "data": {
      "text/plain": [
       "[{'title': '\\nHalloween Astérix 2023 : “Peur sur le parc Astérix”\\n',\n",
       "  'baseline': 'Et nocturne Asterix Halloween 2023Du 30 septembre au 5 novembre 2023 ',\n",
       "  'list_items': ['Pour ses 12 ans de frousse et d’Halloween, Peur sur le Parc s’amuse une nouvelle fois à effrayer toute la famille au parc Astérix.',\n",
       "   'NOUVEAUTÉ : la nouvelle maison hantée ou le Tombeau des Dieux (y reposent les âmes les plus maléfiques de l’histoire d’Egypte) ',\n",
       "   'Au programme spécial Halloween de Peur sur le Parc : toujours plus de frissons, avec les maisons hantées les plus célèbres de la Gaule ,\\xa0 La Colère d’Anubis, Mission Perdue, La Maison de la Peur et Métamorphosis. Pour les plus jeunes : La Forêt d’Idéfix, Le Chemin des Sorciers, et Les Chaudrons Infernaux.',\n",
       "   'Et aussi, La Malédiction du Sirius, dans le théâtre de la Joconde. Un navire disparu depuis plus d’un siècle, le\\xa0Sirius, accoste au Parc Astérix, avec des dizaines de passagers à bord… Dans cette zone ouverte en 2022, trois spectacles inédits seront joués, dont l’un à la verticale, sur le bateau',\n",
       "   'Halloween au Parc Astérix, c’est aussi des spectacles maléfiques et effrayants pour les grands et le petits avec Magna Maleficus ou la foire aux 6 trouilles .\\xa0 ',\n",
       "   'Et bien sûr on ne manque pas le défilé des monstres qui chaque soir ferme le parc',\n",
       "   'Enfin, l’offre de restauration du\\xa0Restaurant du Cirque\\xa0est aux couleurs d’Halloween, avec un véritable «\\xa0buffet de l’horreur\\xa0». Au menu : soupe de potiron, avocat cervelet, fontaine de chocolats ensanglantées et, rencontre avec d’inquiétants circassiens']},\n",
       " {'title': '\\nNoël Gaulois au parc Astérix\\n',\n",
       "  'baseline': 'Du 23 décembre 2023 au 7 janvier 2024Des festivités inoubliables pour Noël ',\n",
       "  'list_items': ['Quatre spectacles étonnants mettant à l’honneur le Père Noël Gaulois, les arts du cirque, de l’illusion et de la poésie',\n",
       "   'Des animations sur le thème de Noël, les jardins merveilleux du père Noël, l’Ile aux vœux, un spectacle plein de poésie…',\n",
       "   'Des illuminations aux couleurs de Noël, sans oublier un incontournable marché de Noël']},\n",
       " {'title': '\\nL’attraction TOUTATIS au Parc Astérix\\n',\n",
       "  'baseline': '– NOUVEAUTÉ – ',\n",
       "  'list_items': ['Quatre spectacles étonnants mettant à l’honneur le Père Noël Gaulois, les arts du cirque, de l’illusion et de la poésie',\n",
       "   'Des animations sur le thème de Noël, les jardins merveilleux du père Noël, l’Ile aux vœux, un spectacle plein de poésie…',\n",
       "   'Des illuminations aux couleurs de Noël, sans oublier un incontournable marché de Noël']},\n",
       " {'title': '\\nLe parc Astérix\\n',\n",
       "  'baseline': 'Un parc d’attraction adoré des enfants… et des parentsRéouverture le 8 avril 2023',\n",
       "  'list_items': ['Quatre spectacles étonnants mettant à l’honneur le Père Noël Gaulois, les arts du cirque, de l’illusion et de la poésie',\n",
       "   'Des animations sur le thème de Noël, les jardins merveilleux du père Noël, l’Ile aux vœux, un spectacle plein de poésie…',\n",
       "   'Des illuminations aux couleurs de Noël, sans oublier un incontournable marché de Noël']},\n",
       " {'title': '\\nLe château de Chantilly\\n',\n",
       "  'baseline': 'Le château, son splendide parc, le musée du cheval',\n",
       "  'list_items': ['Quatre spectacles étonnants mettant à l’honneur le Père Noël Gaulois, les arts du cirque, de l’illusion et de la poésie',\n",
       "   'Des animations sur le thème de Noël, les jardins merveilleux du père Noël, l’Ile aux vœux, un spectacle plein de poésie…',\n",
       "   'Des illuminations aux couleurs de Noël, sans oublier un incontournable marché de Noël']}]"
      ]
     },
     "execution_count": 59,
     "metadata": {},
     "output_type": "execute_result"
    }
   ],
   "source": [
    "b"
   ]
  },
  {
   "cell_type": "code",
   "execution_count": 60,
   "id": "9da98b8d-6ff4-4344-a3b1-05c3f9dfebc1",
   "metadata": {},
   "outputs": [],
   "source": [
    "def save_data_to_csv(data):\n",
    "    # Écrivez les données dans un fichier CSV avec l'encodage UTF-8\n",
    "    with open('data.csv', 'w', newline='', encoding='utf-8') as csvfile:\n",
    "        fieldnames = ['title', 'baseline', 'list_items']\n",
    "        writer = csv.DictWriter(csvfile, fieldnames=fieldnames)\n",
    "\n",
    "        writer.writeheader()\n",
    "        for item in data:\n",
    "            writer.writerow(item)\n",
    "\n",
    "    print(\"Données enregistrées dans data.csv avec encodage UTF-8\")"
   ]
  },
  {
   "cell_type": "code",
   "execution_count": 61,
   "id": "f85ab9aa-1874-4402-83ce-9d37ce72af4e",
   "metadata": {},
   "outputs": [
    {
     "name": "stdout",
     "output_type": "stream",
     "text": [
      "Données enregistrées dans data.csv avec encodage UTF-8\n"
     ]
    }
   ],
   "source": [
    "save_data_to_csv(b)"
   ]
  },
  {
   "cell_type": "code",
   "execution_count": null,
   "id": "95b42e0e-b6e4-4f3c-86a7-0ee76ecd0e3a",
   "metadata": {},
   "outputs": [],
   "source": []
  }
 ],
 "metadata": {
  "kernelspec": {
   "display_name": "Python 3 (ipykernel)",
   "language": "python",
   "name": "python3"
  },
  "language_info": {
   "codemirror_mode": {
    "name": "ipython",
    "version": 3
   },
   "file_extension": ".py",
   "mimetype": "text/x-python",
   "name": "python",
   "nbconvert_exporter": "python",
   "pygments_lexer": "ipython3",
   "version": "3.10.9"
  }
 },
 "nbformat": 4,
 "nbformat_minor": 5
}
