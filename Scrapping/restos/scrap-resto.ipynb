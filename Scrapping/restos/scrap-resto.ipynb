{
 "cells": [
  {
   "cell_type": "code",
   "execution_count": 1,
   "metadata": {},
   "outputs": [],
   "source": [
    "from selenium import webdriver\n",
    "from selenium.webdriver.common.by import By\n",
    "from bs4 import BeautifulSoup"
   ]
  },
  {
   "cell_type": "code",
   "execution_count": 2,
   "metadata": {},
   "outputs": [],
   "source": [
    "def scrap():\n",
    "    # Instancier un navigateur Selenium\n",
    "    # Ouvrir la page web\n",
    "    driver = webdriver.Firefox()\n",
    "    url = \"https://www.sortiraparis.com/hotel-restaurant/restaurant\"\n",
    "    driver.get(url)\n",
    "\n",
    "    # Vous pouvez ensuite utiliser les méthodes de Selenium pour extraire les données de la page\n",
    "    page_source = driver.page_source\n",
    "    soup = BeautifulSoup(page_source, 'html.parser')\n",
    "    \n",
    "    # Recherchez les éléments avec la classe \"grid\"\n",
    "    links = soup.find_all(class_='grid')\n",
    "    \n",
    "    # Créez une liste pour stocker les liens\n",
    "    liste_liens = []\n",
    "\n",
    "    # Parcourez tous les éléments \"grid\" et extrayez les liens\n",
    "    for element in links:\n",
    "        link = element.find('a')['href']\n",
    "        liste_liens.append(link)\n",
    "\n",
    "    # N'oubliez pas de fermer le navigateur à la fin\n",
    "    driver.quit()\n",
    "\n",
    "    return liste_liens"
   ]
  },
  {
   "cell_type": "code",
   "execution_count": null,
   "metadata": {},
   "outputs": [],
   "source": [
    "def Resto(links):\n",
    "    name_list = []  # Créez une liste pour stocker les titres\n",
    "\n",
    "    for link in links:\n",
    "        driver = webdriver.Firefox()\n",
    "        driver.get(link)\n",
    "\n",
    "        # Attendez quelques secondes pour que la page se charge complètement (vous pouvez ajuster le temps d'attente au besoin)\n",
    "        time.sleep(5)\n",
    "\n",
    "        # Utilisez BeautifulSoup pour analyser la page\n",
    "        page_source = driver.page_source\n",
    "        soup = BeautifulSoup(page_source, 'html.parser')\n",
    "\n",
    "        # Trouvez le texte de la balise h1 avec la classe \"post-name\"\n",
    "        h1_element = soup.find('h1', class_='test_center')\n",
    "\n",
    "        if h1_element:\n",
    "            name = h1_element.get_text()\n",
    "            name_list.append(name)  # Ajoutez le titre à la liste\n",
    "\n",
    "        # Fermez le navigateur\n",
    "        driver.quit()\n",
    "\n",
    "    return name_list  # Renvoie la liste des titres"
   ]
  }
 ],
 "metadata": {
  "kernelspec": {
   "display_name": "Python 3",
   "language": "python",
   "name": "python3"
  },
  "language_info": {
   "codemirror_mode": {
    "name": "ipython",
    "version": 3
   },
   "file_extension": ".py",
   "mimetype": "text/x-python",
   "name": "python",
   "nbconvert_exporter": "python",
   "pygments_lexer": "ipython3",
   "version": "3.12.0"
  }
 },
 "nbformat": 4,
 "nbformat_minor": 2
}
